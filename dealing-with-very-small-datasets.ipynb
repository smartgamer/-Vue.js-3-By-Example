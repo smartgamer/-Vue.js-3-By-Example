{
 "cells": [
  {
   "cell_type": "markdown",
   "metadata": {
    "_uuid": "86c7b637c8f0b16fdd573ac8ff6576ab82f47cdd"
   },
   "source": [
    "![](https://raw.githubusercontent.com/rafjaa/curso-mineracao-de-dados-aplicada/master/img/kernel_overfitting/creativity.jpg)\n",
    "\n",
    "# Dealing with very small datasets\n",
    "\n",
    "In this kernel we will see some techniques to handle very small datasets, where the main challenge is to avoid overfitting.\n",
    "\n",
    "1. <a href=\"#t1\">Why small datasets lead to overfitting?</a>\n",
    "2. <a href=\"#t2\">Use simple models</a>\n",
    "3. <a href=\"#t3\">Beware the outliers</a>\n",
    "4. <a href=\"#t4\">Select the features</a>\n",
    "5. <a href=\"#t5\">Balance the dataset with synthetic samples (SMOTE)</a>\n",
    "6. <a href=\"#t6\">Combine models for the final submission</a>\n",
    "7. <a href=\"#t7\">References</a>"
   ]
  },
  {
   "cell_type": "markdown",
   "metadata": {
    "_uuid": "c26cdecd580c5993bef9df0d694918a7151cd6e5"
   },
   "source": [
    "Let's load the data from the **Don't Overfit! II** competition: "
   ]
  },
  {
   "cell_type": "code",
   "execution_count": 1,
   "metadata": {
    "_cell_guid": "b1076dfc-b9ad-4769-8c92-a6c4dae69d19",
    "_uuid": "8f2839f25d086af736a60e9eeb907d3b93b6e0e5",
    "execution": {
     "iopub.execute_input": "2022-11-27T18:45:16.279718Z",
     "iopub.status.busy": "2022-11-27T18:45:16.279038Z",
     "iopub.status.idle": "2022-11-27T18:45:17.954537Z",
     "shell.execute_reply": "2022-11-27T18:45:17.953872Z",
     "shell.execute_reply.started": "2022-11-27T18:45:16.279652Z"
    }
   },
   "outputs": [
    {
     "name": "stdout",
     "output_type": "stream",
     "text": [
      "Train rows: 250\n",
      "Test rows: 19750\n",
      "Data columns: 300\n"
     ]
    }
   ],
   "source": [
    "import warnings\n",
    "warnings.filterwarnings('ignore')\n",
    "\n",
    "import numpy as np\n",
    "import pandas as pd\n",
    "\n",
    "train = pd.read_csv('../input/train.csv')\n",
    "test = pd.read_csv('../input/test.csv')\n",
    "\n",
    "labels = train.columns.drop(['id', 'target'])\n",
    "target = train['target']\n",
    "\n",
    "print('Train rows:', train.shape[0])\n",
    "print('Test rows:', test.shape[0])\n",
    "print('Data columns:', test.columns.drop(['id']).shape[0])"
   ]
  },
  {
   "cell_type": "markdown",
   "metadata": {
    "_uuid": "d051facc3f1f4492636a0a8fab86b395b593c146"
   },
   "source": [
    "A visual inspection of the number of rows:"
   ]
  },
  {
   "cell_type": "code",
   "execution_count": 2,
   "metadata": {
    "_uuid": "6fd9e2a4a61f803057c2bc58c217a51968e56165",
    "execution": {
     "iopub.execute_input": "2022-11-27T18:45:17.956038Z",
     "iopub.status.busy": "2022-11-27T18:45:17.955648Z",
     "iopub.status.idle": "2022-11-27T18:45:18.199609Z",
     "shell.execute_reply": "2022-11-27T18:45:18.198436Z",
     "shell.execute_reply.started": "2022-11-27T18:45:17.955970Z"
    }
   },
   "outputs": [
    {
     "data": {
      "image/png": "[encoded data removed]",
      "text/plain": [
       "<Figure size 432x288 with 1 Axes>"
      ]
     },
     "metadata": {},
     "output_type": "display_data"
    }
   ],
   "source": [
    "import matplotlib.pyplot as plt\n",
    "\n",
    "d_names = ('train.csv', 'test.csv')\n",
    "y_pos = range(len(d_names))\n",
    " \n",
    "plt.bar(\n",
    "    y_pos, \n",
    "    (train.shape[0], test.shape[0]), \n",
    "    align='center', \n",
    "    alpha=0.8\n",
    ")\n",
    "plt.xticks(y_pos, d_names)\n",
    "plt.ylabel('Number of rows') \n",
    "plt.title('😱 Wow!')\n",
    "plt.show()"
   ]
  },
  {
   "cell_type": "markdown",
   "metadata": {
    "_uuid": "a45eede83e544b588fe660c3cf8b77e23ef3ed75"
   },
   "source": [
    "<h1 id=\"t1\">1. Why small datasets lead to overfitting?</h1>\n",
    "\n",
    "The goal of a machine learning model is to **generalize** patterns in training data so that you can correctly predict new data that has never been presented to the model. Overfitting occurs when a model adjusts excessively to the training data, seeing patterns that do not exist, and consequently performing poorly in predicting new data:\n",
    "\n",
    "![](https://raw.githubusercontent.com/rafjaa/curso-mineracao-de-dados-aplicada/master/img/kernel_overfitting/under_over.png)\n",
    "<center><strong>Source:</strong> <a href=\"https://medium.com/@shubhapatnim86/generalisation-training-validation-test-data-machine-learning-part-6-1de9dbb7d3d5\">https://medium.com/@shubhapatnim86/generalisation-training-validation-test-data-machine-learning-part-6-1de9dbb7d3d5</a></center>\n",
    "\n",
    "<br>\n",
    "\n",
    "The fewer samples for training, the more models can fit our data. In an extreme example (a), for just one training point, any model will be able to \"explain\" it, however simple or complex the model may be. As we get to have more samples (b, c), fewer models are able to explain them:\n",
    "\n",
    "![](https://raw.githubusercontent.com/rafjaa/curso-mineracao-de-dados-aplicada/master/img/kernel_overfitting/few_samples.png)\n",
    "<center><strong>Source:</strong> <a href=\"https://towardsdatascience.com/breaking-the-curse-of-small-datasets-in-machine-learning-part-1-36f28b0c044d\">https://towardsdatascience.com/breaking-the-curse-of-small-datasets-in-machine-learning-part-1-36f28b0c044d</a></center>\n",
    "\n",
    "<br>\n",
    "\n",
    "That way, for a dataset with only 250 samples, we need to be very careful not to be fooled by overfitting. In this kernel we will see some tips that can help.\n",
    "\n",
    "![](https://raw.githubusercontent.com/rafjaa/curso-mineracao-de-dados-aplicada/master/img/kernel_overfitting/meme1.jpeg)"
   ]
  },
  {
   "cell_type": "markdown",
   "metadata": {
    "_uuid": "4c86e4397232fa5e9ca6033629233a669dd4ca47"
   },
   "source": [
    "<h1 id=\"t2\">2. Use simple models</h1>\n",
    "\n",
    "As we saw, few samples allow several models to \"explain\" the data. By thinking graphically, complex models can make crazy curves that will almost perfectly explain the training data, but possibly will perform poorly over the test data.\n",
    "\n",
    "![](https://raw.githubusercontent.com/rafjaa/curso-mineracao-de-dados-aplicada/master/img/kernel_overfitting/overfitting_curve.png)\n",
    "<center><strong>Source:</strong> <a href=\"https://bioinfo.iric.ca/overfitting-and-regularization/\">https://bioinfo.iric.ca/overfitting-and-regularization/</a></center>\n",
    "\n",
    "<br>\n",
    "\n",
    "Avoid complex models with many parameters, thus limiting their generalization and possibility of overfitting. Regularization techniques like L1 and L2 also help make the models more conservative. For tree-based models, reducing their maximum depth also limits the model's ability to see patterns and non-existent relationships.\n",
    "\n",
    "A good model to get started is Logistic Regression, a linear model used when the dependent variable (target) is categorical (classification tasks).\n",
    "\n",
    "![](https://raw.githubusercontent.com/rafjaa/curso-mineracao-de-dados-aplicada/master/img/kernel_overfitting/logisticregression.png)\n",
    "<center><strong>Source:</strong> <a href=\"https://towardsdatascience.com/logistic-regression-detailed-overview-46c4da4303bc\">https://towardsdatascience.com/logistic-regression-detailed-overview-46c4da4303bc</a></center>\n",
    "\n",
    "<br>\n",
    "\n",
    "In this model, we can control the regularization by means of the <code>penalty</code> and <code>C</code> parameters (inverse of regularization strength - smaller values specify stronger regularization) to deal with the overfitting:"
   ]
  },
  {
   "cell_type": "code",
   "execution_count": 3,
   "metadata": {
    "_uuid": "af6bee68c72fc1f24980cdf910b4af276523cab5",
    "execution": {
     "iopub.execute_input": "2022-11-27T18:45:18.206635Z",
     "iopub.status.busy": "2022-11-27T18:45:18.206096Z",
     "iopub.status.idle": "2022-11-27T18:45:19.186555Z",
     "shell.execute_reply": "2022-11-27T18:45:19.185536Z",
     "shell.execute_reply.started": "2022-11-27T18:45:18.206458Z"
    }
   },
   "outputs": [
    {
     "data": {
      "text/plain": [
       "array([0.58190233, 0.32446058, 0.34400967, ..., 0.3168285 , 0.28290328,\n",
       "       0.23346972])"
      ]
     },
     "execution_count": 3,
     "metadata": {},
     "output_type": "execute_result"
    }
   ],
   "source": [
    "from sklearn.linear_model import LogisticRegression\n",
    "\n",
    "m = LogisticRegression(\n",
    "    penalty='l1',\n",
    "    C=0.1\n",
    ")\n",
    "m.fit(train[labels], target)\n",
    "m.predict_proba(test[labels])[:,1]"
   ]
  },
  {
   "cell_type": "markdown",
   "metadata": {
    "_uuid": "0cc6dd4980e4aacbd3e42ea806bab09839175851"
   },
   "source": [
    "For tree-based models like XGBoost, we can control the overfitting by tuning a series of parameters:\n",
    "\n",
    "- Restricting the maximum depth of trees via <code>max_depth</code> (low values)\n",
    "- Making the model more conservative via <code>gamma</code> and <code>eta</code> (high values)\n",
    "- L1 and L2 regularization via <code>reg_alpha</code> and <code>reg_lambda</code> (high values)"
   ]
  },
  {
   "cell_type": "code",
   "execution_count": 4,
   "metadata": {
    "_uuid": "552cc02db45c39cc57cc674e6abb4495c55c8a5c",
    "execution": {
     "iopub.execute_input": "2022-11-27T18:45:19.190243Z",
     "iopub.status.busy": "2022-11-27T18:45:19.188352Z",
     "iopub.status.idle": "2022-11-27T18:45:20.058601Z",
     "shell.execute_reply": "2022-11-27T18:45:20.057593Z",
     "shell.execute_reply.started": "2022-11-27T18:45:19.188678Z"
    }
   },
   "outputs": [
    {
     "data": {
      "text/plain": [
       "array([0.39996257, 0.20492844, 0.34088698, ..., 0.4616707 , 0.23781009,\n",
       "       0.14750539], dtype=float32)"
      ]
     },
     "execution_count": 4,
     "metadata": {},
     "output_type": "execute_result"
    }
   ],
   "source": [
    "from xgboost import XGBClassifier\n",
    "\n",
    "m = XGBClassifier(\n",
    "    max_depth=2,\n",
    "    gamma=2,\n",
    "    eta=0.8,\n",
    "    reg_alpha=0.5,\n",
    "    reg_lambda=0.5\n",
    ")\n",
    "m.fit(train[labels], target)\n",
    "m.predict_proba(test[labels])[:,1]"
   ]
  },
  {
   "cell_type": "markdown",
   "metadata": {
    "_uuid": "371cee8539913c6d7e473640f136965ea53383ea"
   },
   "source": [
    "**Note that because it is a nonlinear model with several parameters, it tends to be more prone to overfitting than a simple linear model such as logistic regression.**"
   ]
  },
  {
   "cell_type": "markdown",
   "metadata": {
    "_uuid": "52a6bc0d76ea6787dca7f5b0a79a5c5957c8d2c3"
   },
   "source": [
    "<h1 id=\"t3\">3. Beware the outliers</h1>\n",
    "\n",
    "Outliers are extreme values that fall a long way outside of the other observations. In a small dataset, the impact of an outlier can be much greater, since it will have a heavy weight for the model:\n",
    "\n",
    "![](https://raw.githubusercontent.com/rafjaa/curso-mineracao-de-dados-aplicada/master/img/kernel_overfitting/outlier.png)\n",
    "<center><strong>Source:</strong> <a href=\"https://becominghuman.ai/day-7-data-cleaning-all-that-you-need-to-know-about-it-23b05738abe7\">https://becominghuman.ai/day-7-data-cleaning-all-that-you-need-to-know-about-it-23b05738abe7</a></center>\n",
    "\n",
    "<br>\n",
    "\n",
    "The scikit-learn library has several implementations of outliers detection techniques:\n",
    "\n",
    "![](https://raw.githubusercontent.com/rafjaa/curso-mineracao-de-dados-aplicada/master/img/kernel_overfitting/outl_detection.png)\n",
    "<center><strong>Source:</strong> <a href=\"https://scikit-learn.org/stable/auto_examples/plot_anomaly_comparison.html\">https://scikit-learn.org/stable/auto_examples/plot_anomaly_comparison.html</a></center>\n",
    "\n",
    "<br>\n",
    "\n",
    "Let's do an experiment with the <code>IsolationForest</code> technique, which uses random forests for efficient detection of outliers in high-dimensional datasets. From scikit-learn documentation:\n",
    "\n",
    "> The IsolationForest ‘isolates’ observations by randomly selecting a feature and then randomly selecting a split value between the maximum and minimum values of the selected feature.\n",
    "> \n",
    "> Since recursive partitioning can be represented by a tree structure, the number of splittings required to isolate a sample is equivalent to the path length from the root node to the terminating node.\n",
    "> \n",
    "> This path length, averaged over a forest of such random trees, is a measure of normality and our decision function.\n",
    "\n",
    "![](https://raw.githubusercontent.com/rafjaa/curso-mineracao-de-dados-aplicada/master/img/kernel_overfitting/isolation_forest.jpg)\n",
    "<center><strong>Source:</strong> <a href=\"https://www.slideshare.net/mlvlc/l14-anomaly-detection\">https://www.slideshare.net/mlvlc/l14-anomaly-detection</a></center>\n",
    "\n",
    "<br>\n",
    "\n",
    "Let's score each sample of our dataset using a isolation forest (the lower, the more abnormal):"
   ]
  },
  {
   "cell_type": "code",
   "execution_count": 5,
   "metadata": {
    "_uuid": "fa4e76a07168b3638050b762aa5cb9f5d9ebfe28",
    "execution": {
     "iopub.execute_input": "2022-11-27T18:45:20.060469Z",
     "iopub.status.busy": "2022-11-27T18:45:20.060116Z",
     "iopub.status.idle": "2022-11-27T18:45:25.123730Z",
     "shell.execute_reply": "2022-11-27T18:45:25.122535Z",
     "shell.execute_reply.started": "2022-11-27T18:45:20.060402Z"
    }
   },
   "outputs": [
    {
     "name": "stdout",
     "output_type": "stream",
     "text": [
      "[-0.43371333 -0.42528477 -0.4286179  -0.41763218 -0.43016556 -0.45735319\n",
      " -0.4275529  -0.44614888 -0.41700636 -0.41730406 -0.44562238 -0.44079932\n",
      " -0.44016459 -0.43296058 -0.42565216 -0.4374027  -0.42376516 -0.42483884\n",
      " -0.44061441 -0.41838417 -0.43498618 -0.41597463 -0.43821173 -0.43818974\n",
      " -0.42187087 -0.4091878  -0.41827586 -0.4177908  -0.42441909 -0.4441338\n",
      " -0.42127407 -0.44454949 -0.42239766 -0.43273316 -0.41989657 -0.41740771\n",
      " -0.43219253 -0.42753318 -0.42118827 -0.43845181 -0.4071925  -0.42757404\n",
      " -0.42303569 -0.43011117 -0.44610055 -0.44832383 -0.4470024  -0.41697412\n",
      " -0.41199463 -0.4382     -0.41018744 -0.43889648 -0.41871708 -0.41480775\n",
      " -0.45010879 -0.41314017 -0.42782256 -0.43809599 -0.41582775 -0.42755948\n",
      " -0.42134507 -0.43780414 -0.44508276 -0.44247284 -0.42326884 -0.42843302\n",
      " -0.42222141 -0.43481858 -0.43430356 -0.41707705 -0.42395968 -0.43811866\n",
      " -0.4322515  -0.42927379 -0.42388308 -0.42508821 -0.41813461 -0.43962525\n",
      " -0.4335844  -0.43584979 -0.42660785 -0.44729525 -0.43224178 -0.41524714\n",
      " -0.41353688 -0.44950538 -0.43880611 -0.42611482 -0.40905249 -0.43835333\n",
      " -0.43776674 -0.4352555  -0.42176284 -0.42888665 -0.43476974 -0.43231743\n",
      " -0.43816382 -0.43893266 -0.41998799 -0.42029283 -0.41279985 -0.45860125\n",
      " -0.43268503 -0.41127597 -0.41896577 -0.42994738 -0.42344755 -0.43726678\n",
      " -0.43395586 -0.42642613 -0.4366543  -0.44191615 -0.42932169 -0.42985581\n",
      " -0.42252298 -0.44148163 -0.43545718 -0.43585661 -0.44821788 -0.42517768\n",
      " -0.42345594 -0.42724828 -0.43297236 -0.44684451 -0.40367338 -0.43111564\n",
      " -0.41822934 -0.4313173  -0.41340385 -0.42578213 -0.4076747  -0.43222281\n",
      " -0.4286436  -0.43974557 -0.42292264 -0.4063616  -0.43768017 -0.43849331\n",
      " -0.43306413 -0.4273334  -0.4323492  -0.42283617 -0.4143234  -0.44205189\n",
      " -0.42626808 -0.4370582  -0.42364343 -0.4046147  -0.44378967 -0.41498859\n",
      " -0.41921739 -0.41803516 -0.43366058 -0.42595907 -0.4427938  -0.42196182\n",
      " -0.45031338 -0.42932406 -0.43298595 -0.43703844 -0.43463745 -0.448172\n",
      " -0.42101916 -0.44092878 -0.4319599  -0.44215739 -0.40970498 -0.41808415\n",
      " -0.42385022 -0.41853559 -0.42500865 -0.43279445 -0.41770016 -0.42343779\n",
      " -0.43625392 -0.43384236 -0.42624144 -0.43414477 -0.4431309  -0.43791325\n",
      " -0.419433   -0.42901856 -0.4167874  -0.42970273 -0.438016   -0.42885901\n",
      " -0.41855215 -0.42929927 -0.43209145 -0.42728064 -0.42413524 -0.42755213\n",
      " -0.42587098 -0.40935712 -0.43709762 -0.43192477 -0.43484992 -0.43280424\n",
      " -0.4431736  -0.42065375 -0.41756366 -0.41181264 -0.4310219  -0.42902094\n",
      " -0.43985196 -0.41528405 -0.43119718 -0.42918447 -0.42253324 -0.43125049\n",
      " -0.4417686  -0.42346404 -0.43864895 -0.41394622 -0.43283837 -0.41859302\n",
      " -0.42764708 -0.42783833 -0.43597015 -0.41759628 -0.42865033 -0.44048141\n",
      " -0.44575357 -0.42647307 -0.42817623 -0.42763156 -0.42045303 -0.43239764\n",
      " -0.44905831 -0.43789177 -0.41349046 -0.43327286 -0.4219606  -0.42006657\n",
      " -0.43805521 -0.43042352 -0.41508731 -0.43435191 -0.41617388 -0.42193405\n",
      " -0.41820481 -0.4133507  -0.43197229 -0.42951032 -0.40781096 -0.44064568\n",
      " -0.4148982  -0.43616561 -0.43563895 -0.42950053]\n"
     ]
    }
   ],
   "source": [
    "from sklearn.ensemble import IsolationForest\n",
    "\n",
    "isf = IsolationForest(n_jobs=-1, random_state=1)\n",
    "isf.fit(train[labels], train['target'])\n",
    "\n",
    "print(isf.score_samples(train[labels]))"
   ]
  },
  {
   "cell_type": "markdown",
   "metadata": {
    "_uuid": "ddba95cb7e564206474a39ce5889c93159adaa38"
   },
   "source": [
    "Now, let's predict the outliers (1 for inliers, -1 for outliers):"
   ]
  },
  {
   "cell_type": "code",
   "execution_count": 6,
   "metadata": {
    "_uuid": "9f2055a4e158a9d3031b8ba92b1b8536862c50c4",
    "execution": {
     "iopub.execute_input": "2022-11-27T18:45:25.125832Z",
     "iopub.status.busy": "2022-11-27T18:45:25.125483Z",
     "iopub.status.idle": "2022-11-27T18:45:25.392755Z",
     "shell.execute_reply": "2022-11-27T18:45:25.391757Z",
     "shell.execute_reply.started": "2022-11-27T18:45:25.125775Z"
    }
   },
   "outputs": [
    {
     "name": "stderr",
     "output_type": "stream",
     "text": [
      "/opt/conda/lib/python3.6/site-packages/sklearn/ensemble/iforest.py:417: DeprecationWarning: threshold_ attribute is deprecated in 0.20 and will be removed in 0.22.\n",
      "  \" be removed in 0.22.\", DeprecationWarning)\n"
     ]
    },
    {
     "data": {
      "text/plain": [
       "array([ 1,  1,  1,  1,  1, -1,  1, -1,  1,  1, -1,  1,  1,  1,  1,  1,  1,\n",
       "        1,  1,  1,  1,  1,  1,  1,  1,  1,  1,  1,  1, -1,  1, -1,  1,  1,\n",
       "        1,  1,  1,  1,  1,  1,  1,  1,  1,  1, -1, -1, -1,  1,  1,  1,  1,\n",
       "        1,  1,  1, -1,  1,  1,  1,  1,  1,  1,  1, -1, -1,  1,  1,  1,  1,\n",
       "        1,  1,  1,  1,  1,  1,  1,  1,  1,  1,  1,  1,  1, -1,  1,  1,  1,\n",
       "       -1,  1,  1,  1,  1,  1,  1,  1,  1,  1,  1,  1,  1,  1,  1,  1, -1,\n",
       "        1,  1,  1,  1,  1,  1,  1,  1,  1,  1,  1,  1,  1,  1,  1,  1, -1,\n",
       "        1,  1,  1,  1, -1,  1,  1,  1,  1,  1,  1,  1,  1,  1,  1,  1,  1,\n",
       "        1,  1,  1,  1,  1,  1,  1,  1,  1,  1,  1,  1, -1,  1,  1,  1,  1,\n",
       "        1, -1,  1, -1,  1,  1,  1,  1, -1,  1,  1,  1, -1,  1,  1,  1,  1,\n",
       "        1,  1,  1,  1,  1,  1,  1,  1, -1,  1,  1,  1,  1,  1,  1,  1,  1,\n",
       "        1,  1,  1,  1,  1,  1,  1,  1,  1,  1,  1, -1,  1,  1,  1,  1,  1,\n",
       "        1,  1,  1,  1,  1,  1,  1,  1,  1,  1,  1,  1,  1,  1,  1,  1,  1,\n",
       "        1, -1,  1,  1,  1,  1,  1, -1,  1,  1,  1,  1,  1,  1,  1,  1,  1,\n",
       "        1,  1,  1,  1,  1,  1,  1,  1,  1,  1,  1,  1])"
      ]
     },
     "execution_count": 6,
     "metadata": {},
     "output_type": "execute_result"
    }
   ],
   "source": [
    "isf.predict(train[labels])"
   ]
  },
  {
   "cell_type": "markdown",
   "metadata": {
    "_uuid": "d42c39fec2ae9aae3c27aa0035ea0061c74bfbb1"
   },
   "source": [
    "**Beware, with few samples, it becomes a challenge to adjust the algorithms to correctly identify the outliers.**"
   ]
  },
  {
   "cell_type": "markdown",
   "metadata": {
    "_uuid": "f7a275c6a941a7b20b908f5cbd4b18d2d6766870"
   },
   "source": [
    "<h1 id=\"t4\">4. Select the features</h1>\n",
    "\n",
    "While removing outliers consists of deleting rows from the dataset, feature selection consists of deleting columns that do not contribute to the prediction. There is a wide variety of methods, such as analysis of its correlation with the target, importance analysis and recursive elimination.\n",
    "\n",
    "Let's see an example of how to identify the most relevant features for classification using a tree model:"
   ]
  },
  {
   "cell_type": "code",
   "execution_count": 7,
   "metadata": {
    "_uuid": "f721b3aca3bd586586f6ef3956a2550bf24be06c",
    "execution": {
     "iopub.execute_input": "2022-11-27T18:45:25.400250Z",
     "iopub.status.busy": "2022-11-27T18:45:25.397825Z",
     "iopub.status.idle": "2022-11-27T18:45:25.903721Z",
     "shell.execute_reply": "2022-11-27T18:45:25.902775Z",
     "shell.execute_reply.started": "2022-11-27T18:45:25.400188Z"
    }
   },
   "outputs": [
    {
     "name": "stdout",
     "output_type": "stream",
     "text": [
      "Top features:\n",
      "1. feature 127 (0.031539)\n",
      "2. feature 176 (0.016554)\n",
      "3. feature 241 (0.012582)\n",
      "4. feature 133 (0.012242)\n",
      "5. feature 135 (0.011263)\n",
      "6. feature 126 (0.011100)\n",
      "7. feature 59 (0.010686)\n",
      "8. feature 16 (0.010294)\n",
      "9. feature 220 (0.009949)\n",
      "10. feature 199 (0.009758)\n",
      "11. feature 74 (0.009215)\n",
      "12. feature 169 (0.008473)\n",
      "13. feature 66 (0.008463)\n",
      "14. feature 93 (0.007872)\n",
      "15. feature 18 (0.007814)\n"
     ]
    }
   ],
   "source": [
    "from sklearn.ensemble import ExtraTreesClassifier\n",
    "\n",
    "TOP_FEATURES = 15\n",
    "\n",
    "forest = ExtraTreesClassifier(n_estimators=250, max_depth=5, random_state=1)\n",
    "forest.fit(train[labels], train['target'])\n",
    "\n",
    "importances = forest.feature_importances_\n",
    "std = np.std(\n",
    "    [tree.feature_importances_ for tree in forest.estimators_],\n",
    "    axis=0\n",
    ")\n",
    "indices = np.argsort(importances)[::-1]\n",
    "indices = indices[:TOP_FEATURES]\n",
    "\n",
    "print('Top features:')\n",
    "for f in range(TOP_FEATURES):\n",
    "    print('%d. feature %d (%f)' % (f + 1, indices[f], importances[indices[f]]))"
   ]
  },
  {
   "cell_type": "markdown",
   "metadata": {
    "_uuid": "9ecc50c16f2cf1c39bf6d5c1e198c59fb8e99b74"
   },
   "source": [
    "We can plot a chart of the importances:"
   ]
  },
  {
   "cell_type": "code",
   "execution_count": 8,
   "metadata": {
    "_uuid": "ac55b127995b43ed7347e59d9b8e9e07484cf802",
    "execution": {
     "iopub.execute_input": "2022-11-27T18:45:25.908555Z",
     "iopub.status.busy": "2022-11-27T18:45:25.908250Z",
     "iopub.status.idle": "2022-11-27T18:45:26.186328Z",
     "shell.execute_reply": "2022-11-27T18:45:26.185676Z",
     "shell.execute_reply.started": "2022-11-27T18:45:25.908488Z"
    }
   },
   "outputs": [
    {
     "data": {
      "image/png": "[encoded data removed]",
      "text/plain": [
       "<Figure size 432x288 with 1 Axes>"
      ]
     },
     "metadata": {},
     "output_type": "display_data"
    }
   ],
   "source": [
    "plt.figure()\n",
    "plt.title('Top feature importances')\n",
    "plt.bar(\n",
    "    range(TOP_FEATURES), \n",
    "    importances[indices],\n",
    "    yerr=std[indices], \n",
    ")\n",
    "plt.xticks(range(TOP_FEATURES), indices)\n",
    "plt.show()"
   ]
  },
  {
   "cell_type": "markdown",
   "metadata": {
    "_uuid": "5ea7fbeb73ee8e742bd5671d9050a295130d063e"
   },
   "source": [
    "In the next example, we will try to identify the most important features by successively training a model and recursively eliminating those that do not contribute to a good final solution (according to the selected model).\n",
    "\n",
    "We will use the recursive feature elimination <code>RFE</code> from the scikit-learn library and the <code>XGBClassifier</code> model:"
   ]
  },
  {
   "cell_type": "code",
   "execution_count": 9,
   "metadata": {
    "_uuid": "adb2e9aa37a3064ef42fdd2bf8a3d6a6933be3a9",
    "execution": {
     "iopub.execute_input": "2022-11-27T18:45:26.188119Z",
     "iopub.status.busy": "2022-11-27T18:45:26.187636Z",
     "iopub.status.idle": "2022-11-27T18:46:27.924598Z",
     "shell.execute_reply": "2022-11-27T18:46:27.923404Z",
     "shell.execute_reply.started": "2022-11-27T18:45:26.188062Z"
    }
   },
   "outputs": [
    {
     "name": "stdout",
     "output_type": "stream",
     "text": [
      "Selected features:\n",
      "['1', '3', '9', '10', '15', '16', '18', '23', '25', '26', '28', '29', '32', '33', '34', '40', '41', '42', '45', '49', '50', '51', '54', '55', '59', '60', '62', '66', '67', '68', '69', '70', '73', '76', '78', '80', '81', '82', '85', '87', '89', '90', '93', '95', '97', '99', '100', '101', '102', '103', '104', '105', '107', '110', '112', '113', '114', '117', '120', '123', '124', '125', '126', '127', '133', '134', '135', '137', '139', '140', '141', '142', '143', '144', '145', '150', '151', '154', '155', '159', '161', '162', '163', '164', '165', '167', '172', '173', '175', '176', '178', '179', '180', '183', '184', '185', '186', '187', '191', '192', '193', '194', '196', '198', '199', '200', '205', '208', '211', '212', '213', '215', '217', '218', '219', '220', '225', '228', '229', '230', '232', '235', '237', '238', '239', '241', '243', '244', '247', '249', '250', '251', '253', '254', '256', '260', '261', '265', '269', '271', '274', '276', '277', '279', '281', '286', '289', '290', '297', '298']\n"
     ]
    }
   ],
   "source": [
    "from sklearn.feature_selection import RFE\n",
    "\n",
    "rfe = RFE(XGBClassifier(n_jobs=-1, random_state=1))\n",
    "\n",
    "rfe.fit(train[labels], train['target'])\n",
    "\n",
    "print('Selected features:')\n",
    "print(labels[rfe.support_].tolist())"
   ]
  },
  {
   "cell_type": "markdown",
   "metadata": {
    "_uuid": "627acfe6b68e64db435b37ebb9bfe45e412c2df1"
   },
   "source": [
    "**Caution: for a very small dataset, very robust local validation is required to determine whether or not a feature contributes to the final solution. **"
   ]
  },
  {
   "cell_type": "markdown",
   "metadata": {
    "_uuid": "deb0972159b6229a555db03f3efdc6d8cddd8e95"
   },
   "source": [
    "<h1 id=\"t5\">5. Balance the dataset with synthetic samples (SMOTE)</h1>\n",
    "\n",
    "<br>\n",
    "\n",
    "Let's look at the distribution of target values:"
   ]
  },
  {
   "cell_type": "code",
   "execution_count": 10,
   "metadata": {
    "_uuid": "5a2736f9c0d29dd6514c89d82c45be3e9a338ae9",
    "execution": {
     "iopub.execute_input": "2022-11-27T18:46:27.926484Z",
     "iopub.status.busy": "2022-11-27T18:46:27.926147Z",
     "iopub.status.idle": "2022-11-27T18:46:28.075926Z",
     "shell.execute_reply": "2022-11-27T18:46:28.074968Z",
     "shell.execute_reply.started": "2022-11-27T18:46:27.926418Z"
    }
   },
   "outputs": [
    {
     "data": {
      "image/png": "[encoded data removed]",
      "text/plain": [
       "<Figure size 432x288 with 1 Axes>"
      ]
     },
     "metadata": {},
     "output_type": "display_data"
    }
   ],
   "source": [
    "train['target'].value_counts().plot(kind='bar', title='Count (target)');"
   ]
  },
  {
   "cell_type": "markdown",
   "metadata": {
    "_uuid": "6e9632368a131cac585107c69662f8bdc9cd9b4c"
   },
   "source": [
    "In addition to being extremely small, our training dataset has the unbalanced <code>target</code> binary variable, which can undermine some models' predictability. We will perform an oversampling, which consists of creating new samples to increase the <code>0</code> minority class. For this we will use the SMOTE technique.\n",
    "\n",
    "SMOTE (Synthetic Minority Oversampling TEchnique) consists of synthesizing elements for the minority class, based on those that already exist. It works randomly picingk a point from the minority class and computing the k-nearest neighbors for this point. The synthetic points are added between the chosen point and its neighbors.\n",
    "\n",
    "![](https://raw.githubusercontent.com/rafjaa/machine_learning_fecib/master/src/static/img/smote.png)\n",
    "<center><strong>Source:</strong> <a href=\"https://www.kaggle.com/rafjaa/resampling-strategies-for-imbalanced-datasets\">https://www.kaggle.com/rafjaa/resampling-strategies-for-imbalanced-datasets</a></center>\n",
    "\n",
    "<br>\n",
    "\n",
    "We'll use the SMOTE implementation from the library <code>imbalanced-learn</code>, with the parameter <code>ratio='minority'</code> to resample the minority class:"
   ]
  },
  {
   "cell_type": "code",
   "execution_count": 11,
   "metadata": {
    "_uuid": "bf36c7a7d6184b5ec40bfda5e3e11c2bdc7d0433",
    "execution": {
     "iopub.execute_input": "2022-11-27T18:46:28.077791Z",
     "iopub.status.busy": "2022-11-27T18:46:28.077242Z",
     "iopub.status.idle": "2022-11-27T18:46:29.724798Z",
     "shell.execute_reply": "2022-11-27T18:46:29.723413Z",
     "shell.execute_reply.started": "2022-11-27T18:46:28.077731Z"
    },
    "scrolled": true
   },
   "outputs": [
    {
     "name": "stderr",
     "output_type": "stream",
     "text": [
      "Using TensorFlow backend.\n"
     ]
    },
    {
     "data": {
      "image/png": "[encoded data removed]",
      "text/plain": [
       "<Figure size 432x288 with 1 Axes>"
      ]
     },
     "metadata": {},
     "output_type": "display_data"
    }
   ],
   "source": [
    "from imblearn.over_sampling import SMOTE\n",
    "\n",
    "smote = SMOTE(ratio='minority', n_jobs=-1)\n",
    "X_sm, y_sm = smote.fit_resample(train[labels], train['target'])\n",
    "\n",
    "df = pd.DataFrame(X_sm, columns=labels)\n",
    "df['target'] = y_sm\n",
    "\n",
    "df['target'].value_counts().plot(kind='bar', title='Count (target)');"
   ]
  },
  {
   "cell_type": "markdown",
   "metadata": {
    "_uuid": "8fb6548d56956e994069d0641283fc17b534a910"
   },
   "source": [
    "<h1 id=\"t6\">6. Combine models for the final submission</h1>\n",
    "\n",
    "Combine the prediction of several models or the same model with different values of hyperparameters reduces variance and enhances generalization.\n",
    "\n",
    "![](https://raw.githubusercontent.com/rafjaa/curso-mineracao-de-dados-aplicada/master/img/kernel_overfitting/combine.jpg)\n",
    "<center><strong>Source:</strong> <a href=\"https://medium.com/rants-on-machine-learning/what-to-do-with-small-data-d253254d1a89\">https://medium.com/rants-on-machine-learning/what-to-do-with-small-data-d253254d1a89</a></center>\n",
    "\n",
    "<br>\n",
    "\n",
    "Often, combining weak models that are poorly correlated with each other can lead to superior results than a strong individual model. There are several ways to do this. The simplest is to perform a weighted average of the various predictions:"
   ]
  },
  {
   "cell_type": "code",
   "execution_count": 12,
   "metadata": {
    "_uuid": "6c94a9467b0cbbfdb2c65d1690233efd2bce1cf9",
    "execution": {
     "iopub.execute_input": "2022-11-27T18:46:29.727127Z",
     "iopub.status.busy": "2022-11-27T18:46:29.726715Z",
     "iopub.status.idle": "2022-11-27T18:46:30.764305Z",
     "shell.execute_reply": "2022-11-27T18:46:30.763702Z",
     "shell.execute_reply.started": "2022-11-27T18:46:29.727059Z"
    },
    "scrolled": true
   },
   "outputs": [
    {
     "data": {
      "text/html": [
       "<div>\n",
       "<style scoped>\n",
       "    .dataframe tbody tr th:only-of-type {\n",
       "        vertical-align: middle;\n",
       "    }\n",
       "\n",
       "    .dataframe tbody tr th {\n",
       "        vertical-align: top;\n",
       "    }\n",
       "\n",
       "    .dataframe thead th {\n",
       "        text-align: right;\n",
       "    }\n",
       "</style>\n",
       "<table border=\"1\" class=\"dataframe\">\n",
       "  <thead>\n",
       "    <tr style=\"text-align: right;\">\n",
       "      <th></th>\n",
       "      <th>0</th>\n",
       "      <th>1</th>\n",
       "      <th>weighted_pred</th>\n",
       "    </tr>\n",
       "  </thead>\n",
       "  <tbody>\n",
       "    <tr>\n",
       "      <th>0</th>\n",
       "      <td>0.858801</td>\n",
       "      <td>0.413691</td>\n",
       "      <td>0.756084</td>\n",
       "    </tr>\n",
       "    <tr>\n",
       "      <th>1</th>\n",
       "      <td>0.268313</td>\n",
       "      <td>0.249512</td>\n",
       "      <td>0.263975</td>\n",
       "    </tr>\n",
       "    <tr>\n",
       "      <th>2</th>\n",
       "      <td>0.122161</td>\n",
       "      <td>0.315790</td>\n",
       "      <td>0.166845</td>\n",
       "    </tr>\n",
       "    <tr>\n",
       "      <th>3</th>\n",
       "      <td>0.165163</td>\n",
       "      <td>0.362499</td>\n",
       "      <td>0.210702</td>\n",
       "    </tr>\n",
       "    <tr>\n",
       "      <th>4</th>\n",
       "      <td>0.730592</td>\n",
       "      <td>0.846057</td>\n",
       "      <td>0.757238</td>\n",
       "    </tr>\n",
       "  </tbody>\n",
       "</table>\n",
       "</div>"
      ],
      "text/plain": [
       "          0         1  weighted_pred\n",
       "0  0.858801  0.413691       0.756084\n",
       "1  0.268313  0.249512       0.263975\n",
       "2  0.122161  0.315790       0.166845\n",
       "3  0.165163  0.362499       0.210702\n",
       "4  0.730592  0.846057       0.757238"
      ]
     },
     "execution_count": 12,
     "metadata": {},
     "output_type": "execute_result"
    }
   ],
   "source": [
    "models = [\n",
    "    LogisticRegression(),\n",
    "    XGBClassifier(max_depth=2)\n",
    "]\n",
    "\n",
    "preds = pd.DataFrame()\n",
    "for i, m in enumerate(models):\n",
    "    m.fit(train[labels], target),\n",
    "    preds[i] = m.predict_proba(test[labels])[:,1]\n",
    "\n",
    "weights = [1, 0.3]\n",
    "preds['weighted_pred'] = (preds * weights).sum(axis=1) / sum(weights)\n",
    "preds.head()"
   ]
  },
  {
   "cell_type": "markdown",
   "metadata": {
    "_uuid": "2e0ebfeab0afddd15ebcb263878c6d8110db2d22"
   },
   "source": [
    "Another more sophisticated way of combining predictions is the use of a meta-classifier, which receives as input the prediction of other classifiers, and performs the final predict. From the <code>mlxtend</code> library documentation:\n",
    "\n",
    "> Stacking is an ensemble learning technique to combine multiple classification models via a meta-classifier. The individual classification models are trained based on the complete training set; then, the meta-classifier is fitted based on the outputs -- meta-features -- of the individual classification models in the ensemble. The meta-classifier can either be trained on the predicted class labels or probabilities from the ensemble.\n",
    "\n",
    "![](https://raw.githubusercontent.com/rafjaa/curso-mineracao-de-dados-aplicada/master/img/kernel_overfitting/stack.png)\n",
    "<center><strong>Source:</strong> <a href=\"http://rasbt.github.io/mlxtend/user_guide/classifier/StackingClassifier/\">http://rasbt.github.io/mlxtend/user_guide/classifier/StackingClassifier/</a></center>\n",
    "\n",
    "<br>\n",
    "\n",
    "As an example, we will use the <code>StackingClassifier</code> of the <code>mlxtend</code> library:"
   ]
  },
  {
   "cell_type": "code",
   "execution_count": 13,
   "metadata": {
    "_uuid": "90a2afb30f624565faa6d2f7a6e04220003b0938",
    "execution": {
     "iopub.execute_input": "2022-11-27T18:46:30.765890Z",
     "iopub.status.busy": "2022-11-27T18:46:30.765438Z",
     "iopub.status.idle": "2022-11-27T18:46:31.679404Z",
     "shell.execute_reply": "2022-11-27T18:46:31.677636Z",
     "shell.execute_reply.started": "2022-11-27T18:46:30.765847Z"
    }
   },
   "outputs": [
    {
     "data": {
      "text/html": [
       "<div>\n",
       "<style scoped>\n",
       "    .dataframe tbody tr th:only-of-type {\n",
       "        vertical-align: middle;\n",
       "    }\n",
       "\n",
       "    .dataframe tbody tr th {\n",
       "        vertical-align: top;\n",
       "    }\n",
       "\n",
       "    .dataframe thead th {\n",
       "        text-align: right;\n",
       "    }\n",
       "</style>\n",
       "<table border=\"1\" class=\"dataframe\">\n",
       "  <thead>\n",
       "    <tr style=\"text-align: right;\">\n",
       "      <th></th>\n",
       "      <th>0</th>\n",
       "      <th>1</th>\n",
       "      <th>weighted_pred</th>\n",
       "      <th>stack_pred</th>\n",
       "    </tr>\n",
       "  </thead>\n",
       "  <tbody>\n",
       "    <tr>\n",
       "      <th>0</th>\n",
       "      <td>0.858801</td>\n",
       "      <td>0.413691</td>\n",
       "      <td>0.756084</td>\n",
       "      <td>0.762963</td>\n",
       "    </tr>\n",
       "    <tr>\n",
       "      <th>1</th>\n",
       "      <td>0.268313</td>\n",
       "      <td>0.249512</td>\n",
       "      <td>0.263975</td>\n",
       "      <td>0.088495</td>\n",
       "    </tr>\n",
       "    <tr>\n",
       "      <th>2</th>\n",
       "      <td>0.122161</td>\n",
       "      <td>0.315790</td>\n",
       "      <td>0.166845</td>\n",
       "      <td>0.057651</td>\n",
       "    </tr>\n",
       "    <tr>\n",
       "      <th>3</th>\n",
       "      <td>0.165163</td>\n",
       "      <td>0.362499</td>\n",
       "      <td>0.210702</td>\n",
       "      <td>0.082607</td>\n",
       "    </tr>\n",
       "    <tr>\n",
       "      <th>4</th>\n",
       "      <td>0.730592</td>\n",
       "      <td>0.846057</td>\n",
       "      <td>0.757238</td>\n",
       "      <td>0.898491</td>\n",
       "    </tr>\n",
       "  </tbody>\n",
       "</table>\n",
       "</div>"
      ],
      "text/plain": [
       "          0         1  weighted_pred  stack_pred\n",
       "0  0.858801  0.413691       0.756084    0.762963\n",
       "1  0.268313  0.249512       0.263975    0.088495\n",
       "2  0.122161  0.315790       0.166845    0.057651\n",
       "3  0.165163  0.362499       0.210702    0.082607\n",
       "4  0.730592  0.846057       0.757238    0.898491"
      ]
     },
     "execution_count": 13,
     "metadata": {},
     "output_type": "execute_result"
    }
   ],
   "source": [
    "from mlxtend.classifier import StackingClassifier\n",
    "\n",
    "m = StackingClassifier(\n",
    "    classifiers=[\n",
    "        LogisticRegression(),\n",
    "        XGBClassifier(max_depth=2)\n",
    "    ],\n",
    "    use_probas=True,\n",
    "    meta_classifier=LogisticRegression()\n",
    ")\n",
    "\n",
    "m.fit(train[labels], target),\n",
    "preds['stack_pred'] = m.predict_proba(test[labels])[:,1]\n",
    "preds.head()"
   ]
  },
  {
   "cell_type": "markdown",
   "metadata": {
    "_uuid": "04c653c3e5b8380b2e297be67865b516022dc6b5"
   },
   "source": [
    "![](https://raw.githubusercontent.com/rafjaa/curso-mineracao-de-dados-aplicada/master/img/kernel_overfitting/mem2.jpg)"
   ]
  },
  {
   "cell_type": "markdown",
   "metadata": {
    "_uuid": "f8a97a205f557f6cd475e067a8ee953ec5f52e87"
   },
   "source": [
    "<h1 id=\"t7\">References</h1>\n",
    "\n",
    "**Overfitting:**\n",
    "* IRIC's Bioinformatics Platform. Overfitting and Regularization. https://bioinfo.iric.ca/overfitting-and-regularization/\n",
    "* PATNI, Shubham. Generalisation, Training-Validation & Test data. Machine Learning- Part 6. https://medium.com/@shubhapatnim86/generalisation-training-validation-test-data-machine-learning-part-6-1de9dbb7d3d5\n",
    "* Rants on Machine Learning. What to do with “small” data? https://medium.com/rants-on-machine-learning/what-to-do-with-small-data-d253254d1a89\n",
    "* Towards Data Science. Breaking the curse of small datasets in Machine Learning: Part 1. https://towardsdatascience.com/breaking-the-curse-of-small-datasets-in-machine-learning-part-1-36f28b0c044d\n",
    "\n",
    "**Models:**\n",
    "* scikit-learn. LogisticRegression. https://scikit-learn.org/stable/modules/generated/sklearn.linear_model.LogisticRegression.html\n",
    "* Towards Data Science. Logistic Regression — Detailed Overview. https://towardsdatascience.com/logistic-regression-detailed-overview-46c4da4303bc\n",
    "* XGBoost. XGBoost Parameters. https://xgboost.readthedocs.io/en/latest/parameter.html\n",
    "\n",
    "**Outlier detection:**\n",
    "* Liu, Fei Tony, Ting, Kai Ming and Zhou, Zhi-Hua. “Isolation forest.” Data Mining, 2008. ICDM‘08. Eighth IEEE International Conference on.\n",
    "* Machine Learning Valencia. Anomaly Detection. Valencian Summer School 2015. https://www.slideshare.net/mlvlc/l14-anomaly-detection\n",
    "* scikit-learn. Novelty and Outlier Detection. https://scikit-learn.org/stable/modules/outlier_detection.html\n",
    "* VADALI, SaiGayatri.Day 7: Data cleaning — All you need to know about it. https://becominghuman.ai/day-7-data-cleaning-all-that-you-need-to-know-about-it-23b05738abe7\n",
    "\n",
    "**Feature selection:**\n",
    "* scikit-learn. Feature selection. https://scikit-learn.org/stable/modules/feature_selection.html\n",
    "\n",
    "**SMOTE**\n",
    "* ALENCAR, Rafael. Resampling strategies for imbalanced datasets. https://www.kaggle.com/rafjaa/resampling-strategies-for-imbalanced-datasets\n",
    "* Chawla, Nitesh V., et al. \"SMOTE: synthetic minority over-sampling technique.\" Journal of artificial intelligence research 16 (2002)\n",
    "* imbalanced-learn. https://imbalanced-learn.readthedocs.io/en/stable/generated/imblearn.over_sampling.SMOTE.html\n",
    "\n",
    "**Stacking**\n",
    "* mlxtend. StackingClassifier. http://rasbt.github.io/mlxtend/user_guide/classifier/StackingClassifier/\n",
    "* Tang, J., S. Alelyani, and H. Liu. \"Data Classification: Algorithms and Applications.\" Data Mining and Knowledge Discovery Series, CRC Press (2015): pp. 498-500.\n",
    "* Wolpert, David H. \"Stacked generalization.\" Neural networks 5.2 (1992): 241-259."
   ]
  }
 ],
 "metadata": {
  "kernelspec": {
   "display_name": "Python 3",
   "language": "python",
   "name": "python3"
  },
  "language_info": {
   "codemirror_mode": {
    "name": "ipython",
    "version": 3
   },
   "file_extension": ".py",
   "mimetype": "text/x-python",
   "name": "python",
   "nbconvert_exporter": "python",
   "pygments_lexer": "ipython3",
   "version": "3.6.4"
  }
 },
 "nbformat": 4,
 "nbformat_minor": 4
}
